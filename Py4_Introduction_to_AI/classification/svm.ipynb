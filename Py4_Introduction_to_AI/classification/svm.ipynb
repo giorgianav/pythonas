{
 "cells": [
  {
   "cell_type": "markdown",
   "metadata": {},
   "source": [
    "# Clasificare Binară folosind SVM"
   ]
  },
  {
   "cell_type": "code",
   "execution_count": 31,
   "metadata": {},
   "outputs": [],
   "source": [
    "%matplotlib inline\n",
    "import matplotlib.pyplot as plt\n",
    "\n",
    "import numpy as np\n",
    "import pandas as pd\n",
    "\n",
    "from sklearn.grid_search import GridSearchCV\n",
    "from sklearn.svm import LinearSVC\n",
    "\n",
    "from sklearn.pipeline import Pipeline\n",
    "from sklearn.metrics import roc_curve, auc\n",
    "from sklearn.model_selection import StratifiedKFold\n",
    "from sklearn.metrics import classification_report, f1_score, accuracy_score, confusion_matrix\n",
    "\n",
    "from utils import plot_learning_curve\n",
    "\n",
    "import seaborn as sns; sns.set()\n",
    "\n",
    "np.random.seed(100)"
   ]
  },
  {
   "cell_type": "markdown",
   "metadata": {},
   "source": [
    "## AUC ROC\n",
    "\n",
    "Acesta este de fapt un grafic ce va fi plotat cu scopul de a evalua în ce măsură avem specificitate în modelul nostru, versus sensibilitate.\n",
    "\n",
    "**Specificitatea** modelului este dată de rata de true positives (adică dacă eu vreau ca modelul să prezică o formă de cancer malign, specificitatea va fi dată de nr de predicții M care sunt și corecte).\n",
    "\n",
    "**Sensibilitatea** reprezintă cât de mult s-a înșelat modelul din punctul de vedere al sample-urilor pozitive. Adică câte false negatives a dat în faza de test.\n",
    "\n",
    "AUC - Area Under the Curve\n",
    "ROC - Receiver Operating Characteristic\n",
    "\n",
    "Note:\n",
    "- îmi doresc un AUC cu cât mai mult peste 0.5, ca să pot avea încredere în puterea de predicție a modelului meu.\n",
    "- AUC ROC îmi dă niște indicii despre acuratețe, da ele nu reprezintă același lucru. Cu alte cuvinte, pentru seturi de date nebalansate (în care am muuulte sample-uri dintr-o clasă și extrem de puține din alta) nu mai pot avea prea mare încredere în acuratețea overall.\n",
    "\n",
    "Nu trebuie să vă faceți griji dacă nu înțelegeți foarte bine codul acesta de plotare, căci este un helper care ne va ajuta să vizualizăm niște rezultate. Nu influențează cu nimic partea de ML implementată aici. "
   ]
  },
  {
   "cell_type": "code",
   "execution_count": 32,
   "metadata": {},
   "outputs": [],
   "source": [
    "# Plot roc curve for a specific class\n",
    "def plot_roc_curve(fpr, tpr, roc_auc, rc_msg=\"Test on all\\n\"):\n",
    "    plt.figure()\n",
    "    lw = 2\n",
    "    plt.plot(fpr, tpr, color='darkorange', lw=lw, label='ROC curve (area = %0.2f)' % roc_auc)\n",
    "    plt.plot([0, 1], [0, 1], color='navy', lw=lw, linestyle='--')\n",
    "    plt.xlim([0.0, 1.0])\n",
    "    plt.ylim([0.0, 1.05])\n",
    "    plt.xlabel('False Positive Rate')\n",
    "    plt.ylabel('True Positive Rate')\n",
    "    plt.title(rc_msg + 'Receiver operating characteristic')\n",
    "    plt.legend(loc=\"lower right\")\n",
    "    plt.show()"
   ]
  },
  {
   "cell_type": "code",
   "execution_count": 33,
   "metadata": {},
   "outputs": [],
   "source": [
    "def compute_roc_auc(y_test, y_score):\n",
    "    # Compute ROC curve and ROC area for each class\n",
    "    fpr, tpr, _ = roc_curve(y_test, y_score)\n",
    "    roc_auc = auc(fpr, tpr)\n",
    "    # We are interested in the false positives rate and also the true positive rate\n",
    "    return fpr, tpr, roc_auc"
   ]
  },
  {
   "cell_type": "markdown",
   "metadata": {},
   "source": [
    "## Mean & Standard Deviation\n",
    "\n",
    "Avem aici o funcție care nu face prea multe :)\n",
    "Primește o listă și un mesaj și printează mesajul însoțit de media aritmetică și deviația standard a valorilor din listă.\n",
    "\n",
    "Media aritmetică o să presupun că știți cu ce se mănâncă.\n",
    "Haidem să auzim 3 vorbe despre deviația standard:\n",
    "- ne dă o idee despre precizia modelului nostru.\n",
    "- dacă de exemplu noi avem o listă în care fiecare element reprezintă acuratețea obținută în fiecare rundă de test pe date diferite, ne-ar interesa să știm cam la ce distanță au fost acele acurateți. Asta ne zice deviația standard.\n",
    "- o deviație standard mare, se traduce drept o precizie mai mică.\n",
    "- vrem ca std dev să fie cât mai mic."
   ]
  },
  {
   "cell_type": "code",
   "execution_count": 34,
   "metadata": {},
   "outputs": [],
   "source": [
    "def print_mean(vals_lst, msg):\n",
    "    print (\"-----------------------------------------------------------------------------\") \n",
    "    print(msg,  np.mean(vals_lst), np.std(vals_lst) )\n",
    "    print (\"-----------------------------------------------------------------------------\\n\")"
   ]
  },
  {
   "cell_type": "markdown",
   "metadata": {},
   "source": [
    "## Un pas din SVM\n",
    "\n",
    "Avem următoarele etape:\n",
    "1. \n",
    "    - 1.1. **Alegem ce parametri vrem să optimizăm.** \n",
    "   Noi vom opta pentru **C-value** aici, acesta controlând cât de mult să evite SVM-ul nostru clasificarea greșită a fiecărui exemplu. Pentru valori mici ale lui C, vom avea mai multe exemple clasificate greșit dacă setul nostru de date conține puncte linear separabile (vezi în prezentare ce înseamnă asta). Prin urmare, avem nevoie de căutarea asta de ce valoare este mai nimerită pentru C.\n",
    "   (https://stats.stackexchange.com/questions/31066/what-is-the-influence-of-c-in-svms-with-linear-kernel)\n",
    "    - 1.2. **Inițializăm modelul**.\n",
    "    Aici vom folosi **LinearSVC** din sklearn, pe care l-am importat deja mai sus.\n",
    "    Ca și unic parametru, vom avea **random_state**=100 (seed-ul folosit de pseudo random number generator-ul folosit când se face shuffle la date).\n",
    "2. **Inițializăm un obiect de tipul GridSearchCV** \n",
    "    acesta va fi în stare să folosească un clasificator custom (în cazul nostru **clf**) și să optimizeze o metrică aleasă (în cazul nostru **accuracy**), iar ca să facă asta o să ne aleagă cel mai bun parametru dintr-o mulțime dată (în cazul nostru acel C-score din mulțimea **p_grid**). \n",
    "3. După ce am făcut fit la date în grid, o să avem deja un best_score_ și best_params_:\n",
    "    - 3.1. adăugăm best_score_ la finalul listei cu acurateti de validare, pe care o mărim cu 1 elem la fiecare pas din SVM.\n",
    "    - 3.2. Potrivim cei mai buni parametri grid.best_params_ în clf (practic re-inițializăm clf la un LinearSVC mai tunat).\n",
    "4. Începem să punem clasificatorul optimizat la treabă:\\\\\n",
    "    - 4.1. potrivim (**fit**) **X_tr** și **Y_tr** în clasificator (**clf**).\n",
    "    - 4.2. stocăm în **preds_fold** predicțiile lui clf pe datele de test **X_te**. Obținem aceste **predicții binare** (aparține/nu aparține clasei M/B) folosind funcția **predict** implementată în LinearSVC. \n",
    "    - 4.3. folosim **decision_function** din **clf** și cu **X_te** drept parametru ca să obținem încrederea în fiecare predicție (cât la sută crede modelul meu că un sample dat poate fi clasificat drept cancer malign/benign).\n",
    "5. Se stochează predicțiile (atât cele binare cât și cele sub-unitare aka procente normalizate la 1).\n",
    "   - **NOTĂ**: se folosește aici funcția **extend** pentru că ceea ce obținem noi din predict/decision_function sunt liste. Iar noi vrem să extindem o listă curentă cu elementele din listele respective ci nu să adăugăm (append) listele acelea la lista finală de predicții. "
   ]
  },
  {
   "cell_type": "code",
   "execution_count": 35,
   "metadata": {},
   "outputs": [],
   "source": [
    "def svm_useful_work(X_tr, Y_tr, X_te, Y_te, preds, preds_scores, f1_folds, val_accuracy):  \n",
    "    # 1.1. params to optimise\n",
    "    p_grid = {\"C\": [1e-1, 1e0, 1e1, 1e2, 1e3, 1e4, 1e5],}\n",
    "    \n",
    "    # 1.2. The model that will be transformed into a model able to differentiate between two classes\n",
    "    # use LinearSVC as classifier, with random_state=100 as parameter\n",
    "    clf = LinearSVC(random_state=100)\n",
    "\n",
    "    # 2. Initialize the grid\n",
    "    # use GridSearchCV, with: clf as estimator, p_grid as param_grid and accuracy as scoring measure \n",
    "    grid = GridSearchCV(estimator=clf, param_grid=p_grid, scoring='accuracy')\n",
    "    \n",
    "    # 3. The grid declared earlier has a method 'fit' \n",
    "    # fit is useful in **fitting** the training data to the requirements of the model\n",
    "    # use it to fit X_tr and Y_tr to the model\n",
    "    grid.fit(X_tr, Y_tr)\n",
    "    \n",
    "    print(grid.best_params_)\n",
    "    print(grid.best_score_)\n",
    "    \n",
    "    # 3.1. Append the best_score_ in grid to the validation accuracy list val_accuracy\n",
    "    val_accuracy.append(grid.best_score_)\n",
    "\n",
    "    # 3.2. Re-initialize clf, but this time you know that for the C parameter, the optimal grid.best_params_['C']\n",
    "    #      discovered above should be used.\n",
    "    clf = LinearSVC(C=grid.best_params_['C'], random_state=100)\n",
    "    \n",
    "    # 4.1. Fit the training data X_tr and Y_tr to the classifier \n",
    "    clf.fit(X_tr, Y_tr)\n",
    "\n",
    "    # 4.2. Use predict (a method that can be applied on clf) with the test data X_te \n",
    "    #      to get the predictions (0, 1) for each class\n",
    "    preds_fold = clf.predict(X_te)\n",
    "    \n",
    "    # 4.3. use decision_function (also from clf and with X_te as parameter) to get scores for each class\n",
    "    #      So unlike predict, decision_function will give the confidence in percents (normalized to 1) in each class. \n",
    "    preds_fold_scores = clf.decision_function(X_te)\n",
    "\n",
    "    f1_folds.append(f1_score(Y_te, preds_fold, average='macro', labels=np.unique(preds_fold)))\n",
    "\n",
    "    # 5.1. store the predictions (preds) obtained in this step for future computations \n",
    "    #      regarding the performance of the model aka extend preds with preds_fold\n",
    "    preds.extend(preds_fold)\n",
    "    # 5.2. extend preds_scores with preds_fold_scores\n",
    "    preds_scores.extend(preds_fold_scores)\n",
    "    \n",
    "    return clf, preds, preds_scores, f1_folds, val_accuracy"
   ]
  },
  {
   "cell_type": "markdown",
   "metadata": {},
   "source": [
    "## Run SVM\n",
    "\n",
    "Aici avem implementată partea în care SVM va fi rulat de mai multe ori, cu diferite configurații pentru parametrii săi și cu diferite împărțiri ale setului de date în training/test set.\n",
    "La final o să putem evalua performanța în funcție de fiecare rezultat obținut în fiecare fold (rulare de SVM)."
   ]
  },
  {
   "cell_type": "code",
   "execution_count": 36,
   "metadata": {},
   "outputs": [],
   "source": [
    "def run_lr(X, Y, skf):\n",
    "    fold_count = 1\n",
    "    f1_folds = []\n",
    "    val_accuracy = []\n",
    "    \n",
    "    # preds are obtained at each step using predict\n",
    "    preds = []\n",
    "    # preds_scores are obtained at each step using decision_function\n",
    "    preds_scores = []\n",
    "    \n",
    "    # ground truth\n",
    "    test_gt = []\n",
    "    \n",
    "    # keep these (for future use) exactly in the order they have been split \n",
    "    X_tr_all = []\n",
    "    Y_tr_all = []\n",
    "    \n",
    "    # nested cross-validation\n",
    "    for train_index, test_index in skf.split(X, Y):\n",
    "        print(\"Fold \", fold_count)\n",
    "        print(\"----\")\n",
    "        \n",
    "        fold_count += 1\n",
    "\n",
    "        # split into train and test\n",
    "        X_tr, Y_tr = X[train_index], Y[train_index]\n",
    "        X_te, Y_te = X[test_index], Y[test_index]\n",
    "        \n",
    "        X_tr_all.extend(X_tr)\n",
    "        Y_tr_all.extend(Y_tr)\n",
    "\n",
    "        # perform one SVM step using the above function and get everything of interest for further evaluations\n",
    "        clf, preds, preds_scores, f1_folds, val_accuracy = \\\n",
    "        svm_useful_work(X_tr, Y_tr, X_te, Y_te, preds, preds_scores, f1_folds, val_accuracy)\n",
    "        \n",
    "        test_gt += Y_te.tolist()\n",
    "        \n",
    "        print \"----\"\n",
    "        \n",
    "    return X_tr_all, Y_tr_all, preds, preds_scores, test_gt, f1_folds, val_accuracy, clf"
   ]
  },
  {
   "cell_type": "markdown",
   "metadata": {},
   "source": [
    "## Metrici și Grafice de Interes\n",
    "\n",
    "### 1. Acuratețe\n",
    "\n",
    "Număr de predicții corecte din nr total de predicții.\n",
    "\n",
    "### 2. F1-Score\n",
    "\n",
    "Media armonică dintre precizie și recall:\n",
    "2 * (precision * recall) / (precision + recall).\n",
    "\n",
    "Acesta se uită atât la exemplele pozitive cât și la cele negative din dataset. Deci ne dă o încredere mai mare în performanță dacă avem de-a face cu un dataset neechilibrat (asemeni AUC ROC).\n",
    "\n",
    "### 3. Curbă de Învățare\n",
    "\n",
    "Curba de învățare ne spune cât de bine s-a descurcat modelul în faza de training. Sau, altfel spus, cât de bine a învățat acesta.\n",
    "\n",
    "### 4. Raport de Clasificare\n",
    "\n",
    "Ne arată următoarele valori, pentru fiecare clasă (în cazul nostru Malign/Benign):\n",
    "\n",
    "- **precizie** = tp / (tp + fp). Adică numărul de true positives (exemple clasificate corect ca aparținând clasei 1) din câte positive a clasificat de fapt modelul. Ne zice de fapt puterea de predicție a sample-urilor pozitive.\n",
    "- **recall**: = tp / (tp + fn). Adică câte am clasificat drept pozitive din câte pozitive erau de fapt.\n",
    "- **f1-score**: vezi mai sus.\n",
    "- **suport**: câte sample-uri avem pe care s-a calculat respectivul scor.\n",
    "\n",
    "### 5. AUC ROC\n",
    "\n",
    "Vrem să fie cu cât mai mult peste 0.5, ca să putem avea încredere în puterea de predicție a modelului.\n",
    "\n",
    "AUC ROC dă indicii despre acuratețe, dar nu avem termen de comparație cu acuratețea . Cu alte cuvinte, pentru seturi de date nebalansate (în care am muuulte sample-uri dintr-o clasă și extrem de puține din alta) nu mai pot avea prea mare încredere în acuratețea overall. Atunci AUC ROC îmi vine-n ajutor.\n",
    "\n",
    "\n",
    "### 6. Matrice de Confuzie\n",
    "\n",
    "În general o să ne dorim o culoare cât mai închisă pe diagonala principală. Aici vom avea True Positives și True Negatives. Diagonala secundară, în cazul de clasificare binară va conține numărul de False Positives și False Negatives.\n",
    "Analizați graficele odată ce le obțineți, pentru o mai bună (si mai vizuală) înțelegere a situației."
   ]
  },
  {
   "cell_type": "code",
   "execution_count": 37,
   "metadata": {},
   "outputs": [],
   "source": [
    "def print_results(X_tr_all, Y_tr_all, preds, preds_scores, test_gt, f1_folds, val_accuracy, clf,\\\n",
    "                 lc_msg=\"Train results\\n\", cm_msg=\"Test results\\n\"):\n",
    "    \n",
    "    # 1. Print the 'Mean Validation Accuracy' using print_mean implemented above on the val_accuracy list\n",
    "    print_mean(val_accuracy, \"Mean validation accuracy: \")\n",
    "    \n",
    "    # 2. Print the 'Mean F1-score' using print_mean implemented above on the f1_folds list\n",
    "    print_mean(f1_folds, \"Mean Macro F1-score: \")\n",
    "    \n",
    "    # 3. Plot the Learning Curve\n",
    "    plot_learning_curve(clf, lc_msg + \"Accuracy vs. Training Set Size\", X_tr_all, Y_tr_all, cv=10)\n",
    "\n",
    "    # 4. Print the overall performance of the model using classification_report from sklearn\n",
    "    #    as parameters here you'll have: \n",
    "    #    - the ground truth for the test set (test_gt)\n",
    "    #    - the classes predicted by the model (preds)\n",
    "    #    - target_names=['Benign', 'Malign'] - to have the labels nicely printed in the report\n",
    "    print (\"-----------------------------------------------------------------------------\")\n",
    "    print (\"Classification Report\")\n",
    "    print (\"-----------------------------------------------------------------------------\")\n",
    "    print(classification_report(test_gt, preds, target_names=['Benign', 'Malign']))\n",
    "    print (\"-----------------------------------------------------------------------------\\n\")\n",
    "    \n",
    "    # 5.1. Let the compute_roc_auc boss implemented above compute the false positives rate, true pos rate and roc_auc.\n",
    "    #      Do not forget to feed it the test_gt and preds_scores as parameters!\n",
    "    fpr, tpr, roc_auc = compute_roc_auc(test_gt, preds_scores)\n",
    "    # 5.2. Plot the AUC ROC using plot_roc_curve defined above\n",
    "    plot_roc_curve(fpr, tpr, roc_auc, cm_msg)\n",
    "    \n",
    "    # 6. Plot the Confusion Matrix \n",
    "    cm = confusion_matrix(test_gt, preds)\n",
    "    cm = cm.astype('float') / cm.sum(axis=1)[:, np.newaxis]\n",
    "    sns.heatmap(cm)\n",
    "    plt.show()\n",
    "    \n",
    "    return roc_auc"
   ]
  },
  {
   "cell_type": "code",
   "execution_count": 38,
   "metadata": {},
   "outputs": [],
   "source": [
    "# Load the dataset\n",
    "data_file = \"./breast_cancer.csv\"\n",
    "data = pd.read_csv(data_file, quotechar='\"', header=None).as_matrix()"
   ]
  },
  {
   "cell_type": "code",
   "execution_count": 39,
   "metadata": {},
   "outputs": [],
   "source": [
    "# The labels (M/B) are loaded and converted to binary labels (1/0)\n",
    "Y_temp = data[1:,1].astype(np.str)\n",
    "\n",
    "Y = np.zeros(len(Y_temp))\n",
    "for i in range(len(Y_temp)):\n",
    "    if Y_temp[i] == 'M':\n",
    "        Y[i] = 1"
   ]
  },
  {
   "cell_type": "code",
   "execution_count": 40,
   "metadata": {},
   "outputs": [
    {
     "name": "stdout",
     "output_type": "stream",
     "text": [
      "('Fold ', 1)\n",
      "----\n",
      "{'C': 0.1}\n",
      "0.835616438356\n",
      "----\n",
      "('Fold ', 2)\n",
      "----\n",
      "{'C': 0.1}\n",
      "0.929549902153\n",
      "----\n",
      "('Fold ', 3)\n",
      "----\n",
      "{'C': 1.0}\n",
      "0.923828125\n",
      "----\n",
      "('Fold ', 4)\n",
      "----\n",
      "{'C': 1.0}\n",
      "0.828125\n",
      "----\n",
      "('Fold ', 5)\n",
      "----\n",
      "{'C': 0.1}\n",
      "0.90625\n",
      "----\n",
      "('Fold ', 6)\n",
      "----\n",
      "{'C': 0.1}\n",
      "0.91796875\n",
      "----\n",
      "('Fold ', 7)\n",
      "----\n",
      "{'C': 1.0}\n",
      "0.908203125\n",
      "----\n",
      "('Fold ', 8)\n",
      "----\n",
      "{'C': 10.0}\n",
      "0.90253411306\n",
      "----\n",
      "('Fold ', 9)\n",
      "----\n",
      "{'C': 0.1}\n",
      "0.927875243665\n",
      "----\n",
      "('Fold ', 10)\n",
      "----\n",
      "{'C': 0.1}\n",
      "0.922027290448\n",
      "----\n",
      "-----------------------------------------------------------------------------\n",
      "('Mean validation accuracy: ', 0.9001977987682295, 0.03528416904060371)\n",
      "-----------------------------------------------------------------------------\n",
      "\n",
      "-----------------------------------------------------------------------------\n",
      "('Mean Macro F1-score: ', 0.8898095715934888, 0.04287289359884572)\n",
      "-----------------------------------------------------------------------------\n",
      "\n",
      "-----------------------------------------------------------------------------\n",
      "Classification Report\n",
      "-----------------------------------------------------------------------------\n",
      "             precision    recall  f1-score   support\n",
      "\n",
      "     Benign       0.91      0.92      0.92       357\n",
      "     Malign       0.87      0.85      0.86       212\n",
      "\n",
      "avg / total       0.90      0.90      0.90       569\n",
      "\n",
      "-----------------------------------------------------------------------------\n",
      "\n"
     ]
    },
    {
     "data": {
      "image/png": "[encoded data removed]",
      "text/plain": [
       "<matplotlib.figure.Figure at 0x7f8cdcee0510>"
      ]
     },
     "metadata": {},
     "output_type": "display_data"
    },
    {
     "data": {
      "image/png": "[encoded data removed]",
      "text/plain": [
       "<matplotlib.figure.Figure at 0x7f8ce4a8cf50>"
      ]
     },
     "metadata": {},
     "output_type": "display_data"
    },
    {
     "data": {
      "image/png": "[encoded data removed]",
      "text/plain": [
       "<matplotlib.figure.Figure at 0x7f8ce4b26e10>"
      ]
     },
     "metadata": {},
     "output_type": "display_data"
    },
    {
     "data": {
      "text/plain": [
       "0.9502272607156069"
      ]
     },
     "execution_count": 40,
     "metadata": {},
     "output_type": "execute_result"
    }
   ],
   "source": [
    "data_feat = pd.read_csv(data_file, quotechar='\"', sep=\",\", header=None).as_matrix()\n",
    "X = data_feat[1:,2:31].astype(float)\n",
    "    \n",
    "# Build and train the classifier\n",
    "skf = StratifiedKFold(n_splits=10, random_state=100)\n",
    "X_tr_all, Y_tr_all, preds, preds_scores, test_gt, f1_folds, val_accuracy, clf = run_lr(X, Y, skf)\n",
    "    \n",
    "# Print the results\n",
    "print_results(X, Y, preds, preds_scores, test_gt, f1_folds, val_accuracy, clf)"
   ]
  }
 ],
 "metadata": {
  "kernelspec": {
   "display_name": "Python 3",
   "language": "python",
   "name": "python3"
  },
  "language_info": {
   "codemirror_mode": {
    "name": "ipython",
    "version": 2
   },
   "file_extension": ".py",
   "mimetype": "text/x-python",
   "name": "python",
   "nbconvert_exporter": "python",
   "pygments_lexer": "ipython2",
   "version": "2.7.12+"
  }
 },
 "nbformat": 4,
 "nbformat_minor": 2
}
