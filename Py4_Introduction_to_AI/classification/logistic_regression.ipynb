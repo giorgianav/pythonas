{
 "cells": [
  {
   "cell_type": "markdown",
   "metadata": {},
   "source": [
    "# Spam Detection folosind Logistic Regression"
   ]
  },
  {
   "cell_type": "code",
   "execution_count": 30,
   "metadata": {},
   "outputs": [],
   "source": [
    "%matplotlib inline\n",
    "import matplotlib.pyplot as plt\n",
    "\n",
    "import numpy as np\n",
    "import pandas as pd\n",
    "\n",
    "from sklearn.grid_search import GridSearchCV\n",
    "from sklearn.linear_model import LogisticRegression\n",
    "from sklearn.linear_model import SGDClassifier\n",
    "\n",
    "from sklearn.metrics import roc_curve, auc\n",
    "from sklearn.feature_extraction.text import TfidfVectorizer\n",
    "from sklearn.model_selection import StratifiedKFold, cross_val_score\n",
    "from sklearn.metrics import classification_report, f1_score, accuracy_score, confusion_matrix\n",
    "\n",
    "import seaborn as sns; sns.set()\n",
    "\n",
    "from utils import plot_learning_curve"
   ]
  },
  {
   "cell_type": "markdown",
   "metadata": {},
   "source": [
    "## AUC ROC\n",
    "\n",
    "Acesta este de fapt un grafic ce va fi plotat cu scopul de a evalua în ce măsură avem specificitate în modelul nostru, versus sensibilitate.\n",
    "\n",
    "**Specificitatea** modelului este dată de rata de true positives (adică dacă eu vreau ca modelul să prezică spam, specificitatea va fi dată de nr de predicții 'spam' care sunt și corecte).\n",
    "\n",
    "**Sensibilitatea** reprezintă cât de mult s-a înșelat modelul din punctul de vedere al sample-urilor pozitive. Adică câte false negatives a dat în faza de test.\n",
    "\n",
    "AUC - Area Under the Curve\n",
    "ROC - Receiver Operating Characteristic\n",
    "\n",
    "Note:\n",
    "- îmi doresc un AUC cu cât mai mult peste 0.5, ca să pot avea încredere în puterea de predicție a modelului meu.\n",
    "- AUC ROC îmi dă niște indicii despre acuratețe, da ele nu reprezintă același lucru. Cu alte cuvinte, pentru seturi de date nebalansate (în care am muuulte sample-uri dintr-o clasă și extrem de puține din alta) nu mai pot avea prea mare încredere în acuratețea overall.\n",
    "\n",
    "Nu trebuie să vă faceți griji dacă nu înțelegeți foarte bine codul acesta de plotare, căci este un helper care ne va ajuta să vizualizăm niște rezultate. Nu influențează cu nimic partea de ML implementată aici. "
   ]
  },
  {
   "cell_type": "code",
   "execution_count": 31,
   "metadata": {},
   "outputs": [],
   "source": [
    "# Plot roc curve for a specific class\n",
    "def plot_roc_curve(fpr, tpr, roc_auc, rc_msg=\"Test Data\\n\"):\n",
    "    plt.figure()\n",
    "    lw = 2\n",
    "    plt.plot(fpr, tpr, color='darkorange', lw=lw, label='ROC curve (area = %0.2f)' % roc_auc)\n",
    "    plt.plot([0, 1], [0, 1], color='navy', lw=lw, linestyle='--')\n",
    "    plt.xlim([0.0, 1.0])\n",
    "    plt.ylim([0.0, 1.05])\n",
    "    plt.xlabel('False Positive Rate')\n",
    "    plt.ylabel('True Positive Rate')\n",
    "    plt.title(rc_msg + 'Receiver operating characteristic')\n",
    "    plt.legend(loc=\"lower right\")\n",
    "    plt.show()"
   ]
  },
  {
   "cell_type": "code",
   "execution_count": 32,
   "metadata": {},
   "outputs": [],
   "source": [
    "def compute_roc_auc(y_test, y_score):\n",
    "    # Compute ROC curve and ROC area for each class\n",
    "    fpr, tpr, _ = roc_curve(y_test, y_score)\n",
    "    # We are interested in the false positives rate and also the true positive rate\n",
    "    roc_auc = auc(fpr, tpr)\n",
    "    return fpr, tpr, roc_auc"
   ]
  },
  {
   "cell_type": "markdown",
   "metadata": {},
   "source": [
    "## Mean & Standard Deviation\n",
    "\n",
    "Avem aici o funcție care nu face prea multe :)\n",
    "Primește o listă și un mesaj și printează mesajul însoțit de media aritmetică și deviația standard a valorilor din listă.\n",
    "\n",
    "Media aritmetică o să presupun că știți cu ce se mănâncă.\n",
    "Haidem să auzim 3 vorbe despre deviația standard:\n",
    "- ne dă o idee despre precizia modelului nostru.\n",
    "- dacă de exemplu noi avem o listă în care fiecare element reprezintă acuratețea obținută în fiecare rundă de test pe date diferite, ne-ar interesa să știm cam la ce distanță au fost acele acurateți. Asta ne zice deviația standard.\n",
    "- o deviație standard mare, se traduce drept o precizie mai mică.\n",
    "- vrem ca std dev să fie cât mai mic."
   ]
  },
  {
   "cell_type": "code",
   "execution_count": 33,
   "metadata": {},
   "outputs": [],
   "source": [
    "def print_mean(vals_lst, msg):\n",
    "    print \"-----------------------------------------------------------------------------\" \n",
    "    print(msg,  np.mean(vals_lst), np.std(vals_lst) )\n",
    "    print \"-----------------------------------------------------------------------------\\n\""
   ]
  },
  {
   "cell_type": "markdown",
   "metadata": {},
   "source": [
    "## Un pas din Logistic Regression\n",
    "\n",
    "Avem următoarele etape:\n",
    "\n",
    "1. **Efectuăm o normalizare a feature-urilor pe care le avem.**\n",
    "    Problema pe care o studiem noi aici trimite mult în zona de Natural Language Processing. Aici atributele (features) sunt cuvintele. Problema este că aceste metode pe care le folosim (SVM, Logistic Regression, etc) nu prea se descurcă cu altceva decât numere, așa că este nevoie de treaba asta cu transformarea. Ceea ce este special la tfidf este că el previne acordarea unui scor prea mare (numărul la care se face conversia cuvintelor) acelor cuvinte care apar frecvent dar care au conținut informațional slab.\n",
    "    - 1.1. Există clasa **TfidfVectorizer** care se poate ocupa de tot ce am vorbit noi mai sus.\n",
    "    - 1.2. Vom folosi **fit_transform** ca să ne convertim feature-urile noastre care sunt de fapt cuvinte. Această funcție face de fapt un dicționar în care cheia este cuvântul iar valoarea este feature-ul numeric.\n",
    "    - 1.3. Folosim **transform** pentru datele de test **X_te**, pentru că aici nu ne mai trebuie acel dicționar, ci doar feature-urile transformate numeric.\n",
    "\n",
    "2. \n",
    "    - 2.1. **Alegem ce parametri vrem să optimizăm.** \n",
    "   Noi vom opta pentru **C-value** aici, acesta fiind foarte similar ca și semnificație și interpretare cu C-value-ul de la SVM despre care am discutat adineauri în cadrul acestui workshop.\n",
    "   \n",
    "    - 2.2. **Inițializăm modelul**.\n",
    "    Aici vom folosi **LogisticRegression** din sklearn, pe care l-am importat deja mai sus.\n",
    "    Ca și parametru, vom avea **random_state**=100 (seed-ul folosit de pseudo random number generator-ul folosit când se face shuffle la date).\n",
    "3. **Inițializăm un obiect de tipul GridSearchCV** \n",
    "    acesta va fi în stare să folosească un clasificator custom (în cazul nostru **clf**) și să optimizeze o metrică aleasă (în cazul nostru **accuracy**), iar ca să facă asta o să ne aleagă cel mai bun parametru dintr-o mulțime dată (în cazul nostru acel C-score din mulțimea **p_grid**). \n",
    "4. După ce am făcut fit la date în grid, o să avem deja un best_score_ și best_params_:\n",
    "    - 4.1. adăugăm best_score_ la finalul listei cu acurateti de validare, pe care o mărim cu 1 elem la fiecare pas din SVM.\n",
    "    - 4.2. Potrivim cei mai buni parametri grid.best_params_ în clf (practic re-inițializăm clf la un LogisticRegression mai tunat).\n",
    "5. Începem să punem clasificatorul optimizat la treabă:\n",
    "    - 5.1. potrivim (**fit**) **X_tr** și **Y_tr** în clasificator (**clf**).\n",
    "    - 5.2. stocăm în **preds_fold** predicțiile lui clf pe datele de test **X_te**. Obținem aceste **predicții binare** (aparține/nu aparține clasei spam/ham) folosind funcția **predict** implementată în LogisticRegression. \n",
    "    - 5.3. folosim **predict_proba** din **clf** și cu **X_te** drept parametru ca să obținem încrederea în fiecare predicție (cât la sută crede modelul meu că un sample dat poate fi clasificat drept spam/ham).\n",
    "6. Se stochează predicțiile (atât cele binare cât și cele sub-unitare aka procente normalizate la 1).\n",
    "   - **NOTĂ**: se folosește aici funcția **extend** pentru că ceea ce obținem noi din predict/decision_function sunt liste. Iar noi vrem să extindem o listă curentă cu elementele din listele respective ci nu să adăugăm (append) listele acelea la lista finală de predicții. "
   ]
  },
  {
   "cell_type": "code",
   "execution_count": 34,
   "metadata": {},
   "outputs": [],
   "source": [
    "def lr_useful_work(X_tr, Y_tr, X_te, Y_te, preds, preds_scores, f1_folds, val_accuracy):\n",
    "    # 1.1. Vectorise for the current fold\n",
    "    vectorizer = TfidfVectorizer(ngram_range=(1, 3), min_df=2, token_pattern=r'(?u)\\b[@#]?\\w[\\w_]+\\b',)\n",
    "\n",
    "    # 1.2. The new X_tr becomes a dictionary {word: numeric_feature}\n",
    "    #      in order to obtain this, use fit_transform applied on vectorizer and with the old X_tr as parameter\n",
    "    X_tr = vectorizer.fit_transform(X_tr)\n",
    "    \n",
    "    # 1.3. Simply re-initialize X_te to a feature vector obtained using the transform function from vectorizer \n",
    "    X_te = vectorizer.transform(X_te)\n",
    "\n",
    "    # 2.1. Params to optimise\n",
    "    p_grid = {\"C\": [1e-1, 1e0, 1e1, 1e2, 1e3, 1e4, 1e5]}\n",
    "\n",
    "    # 2.2.. The model that will be transformed into a model able to differentiate between two classes\n",
    "    # use LogisticRegression as classifier, with random_state=100 as parameter\n",
    "    clf = LogisticRegression(random_state=100)\n",
    "\n",
    "    # 3. initialize the grid\n",
    "    # use GridSearchCV, with: clf as estimator, p_grid as param_grid and accuracy as scoring measure \n",
    "    grid = GridSearchCV(estimator=clf, param_grid=p_grid)\n",
    "    \n",
    "    # 4. The grid declared earlier has a method 'fit' \n",
    "    # fit is useful in **fitting** the training data to the requirements of the model\n",
    "    # use it to fit X_tr and Y_tr to the model\n",
    "    grid.fit(X_tr, Y_tr)\n",
    "    \n",
    "    print(grid.best_params_)\n",
    "    print(grid.best_score_)\n",
    "    \n",
    "    # 4.1. Append the best_score_ in grid to the validation accuracy list val_accuracy\n",
    "    val_accuracy.append(grid.best_score_)\n",
    "\n",
    "    # 4.2. Re-initialize clf, but this time you know that for the C parameter, the optimal grid.best_params_['C']\n",
    "    #      discovered above should be used.\n",
    "    clf = LogisticRegression(C=grid.best_params_['C'], random_state=100)\n",
    "\n",
    "    # 5.1. Fit the training data X_tr and Y_tr to the classifier \n",
    "    clf.fit(X_tr, Y_tr)\n",
    "\n",
    "    # 5.2. Use predict (a method that can be applied on clf) with the test data X_te \n",
    "    #      to get the predictions (0, 1) for each class\n",
    "    preds_fold = clf.predict(X_te)\n",
    "    \n",
    "    # 5.3. use predict_proba (also from clf and with X_te as parameter) to get scores for each class\n",
    "    #      So unlike predict, predict_proba will give the confidence in percents (normalized to 1) in each class. \n",
    "    preds_fold_scores = clf.predict_proba(X_te)[:, 1]\n",
    "\n",
    "    f1_folds.append(f1_score(Y_te, preds_fold))\n",
    "\n",
    "    # 6.1. store the predictions (preds) obtained in this step for future computations \n",
    "    #      regarding the performance of the model aka extend preds with preds_fold\n",
    "    preds.extend(preds_fold)\n",
    "    # 6.2. extend preds_scores with preds_fold_scores\n",
    "    preds_scores.extend(preds_fold_scores)\n",
    "    \n",
    "    return vectorizer, clf, preds, preds_scores, f1_folds, val_accuracy"
   ]
  },
  {
   "cell_type": "code",
   "execution_count": 35,
   "metadata": {},
   "outputs": [],
   "source": [
    "def run_lr(X, Y, skf):\n",
    "    fold_count = 1\n",
    "    f1_folds = []\n",
    "    val_accuracy = []\n",
    "    preds = []\n",
    "    preds_scores = []\n",
    "    # ground truth\n",
    "    test_gt = []\n",
    "\n",
    "    X_tr_all = []\n",
    "    Y_tr_all = []\n",
    "    \n",
    "    # nested cross-validation\n",
    "    for train_index, test_index in skf.split(X, Y):\n",
    "        print(\"Fold \", fold_count)\n",
    "        print(\"----\")\n",
    "        fold_count+=1\n",
    "\n",
    "        # split into train and test\n",
    "        X_tr, Y_tr = X[train_index], Y[train_index]\n",
    "        X_te, Y_te = X[test_index], Y[test_index]\n",
    "        \n",
    "        X_tr_all.extend(X_tr)\n",
    "        Y_tr_all.extend(Y_tr)\n",
    "\n",
    "        vectorizer, clf, preds, preds_scores, f1_folds, val_accuracy = \\\n",
    "        lr_useful_work(X_tr, Y_tr, X_te, Y_te, preds, preds_scores, f1_folds, val_accuracy)\n",
    "        \n",
    "        test_gt += Y_te.tolist()\n",
    "        \n",
    "        print \"----\"\n",
    "        \n",
    "    return X_tr_all, Y_tr_all, preds, preds_scores, test_gt, f1_folds, val_accuracy, vectorizer, clf"
   ]
  },
  {
   "cell_type": "markdown",
   "metadata": {},
   "source": [
    "## Metrici și Grafice de Interes\n",
    "\n",
    "### 1. Acuratețe\n",
    "\n",
    "Număr de predicții corecte din nr total de predicții.\n",
    "\n",
    "### 2. F1-Score\n",
    "\n",
    "Media armonică dintre precizie și recall:\n",
    "2 * (precision * recall) / (precision + recall).\n",
    "\n",
    "Acesta se uită atât la exemplele pozitive cât și la cele negative din dataset. Deci ne dă o încredere mai mare în performanță dacă avem de-a face cu un dataset neechilibrat (asemeni AUC ROC).\n",
    "\n",
    "### 3. Curbă de Învățare\n",
    "\n",
    "Curba de învățare ne spune cât de bine s-a descurcat modelul în faza de training. Sau, altfel spus, cât de bine a învățat acesta.\n",
    "\n",
    "### 4. Raport de Clasificare\n",
    "\n",
    "Ne arată următoarele valori, pentru fiecare clasă (în cazul nostru SPAM/HAM):\n",
    "\n",
    "- **precizie** = tp / (tp + fp). Adică numărul de true positives (exemple clasificate corect ca aparținând clasei 1) din câte positive a clasificat de fapt modelul. Ne zice de fapt puterea de predicție a sample-urilor pozitive.\n",
    "- **recall**: = tp / (tp + fn). Adică câte am clasificat drept pozitive din câte pozitive erau de fapt.\n",
    "- **f1-score**: vezi mai sus.\n",
    "- **suport**: câte sample-uri avem pe care s-a calculat respectivul scor.\n",
    "\n",
    "### 5. AUC ROC\n",
    "\n",
    "Vrem să fie cu cât mai mult peste 0.5, ca să putem avea încredere în puterea de predicție a modelului.\n",
    "\n",
    "AUC ROC dă indicii despre acuratețe, dar nu avem termen de comparație cu acuratețea . Cu alte cuvinte, pentru seturi de date nebalansate (în care am muuulte sample-uri dintr-o clasă și extrem de puține din alta) nu mai pot avea prea mare încredere în acuratețea overall. Atunci AUC ROC îmi vine-n ajutor.\n",
    "\n",
    "\n",
    "### 6. Matrice de Confuzie\n",
    "\n",
    "În general o să ne dorim o culoare cât mai închisă pe diagonala principală. Aici vom avea True Positives și True Negatives. Diagonala secundară, în cazul de clasificare binară va conține numărul de False Positives și False Negatives.\n",
    "Analizați graficele odată ce le obțineți, pentru o mai bună (si mai vizuală) înțelegere a situației."
   ]
  },
  {
   "cell_type": "code",
   "execution_count": 36,
   "metadata": {},
   "outputs": [],
   "source": [
    "def print_results(X_tr_all, Y_tr_all, preds, preds_scores, test_gt, f1_folds, val_accuracy, vectorizer, clf,\\\n",
    "                 lc_msg=\"Train on all categories\\n\", cm_msg=\"Test on all categories\\n\"):\n",
    "    \n",
    "    # 1. Print the 'Mean Validation Accuracy' using print_mean implemented above on the val_accuracy list\n",
    "    print_mean(val_accuracy, \"Mean validation accuracy: \")\n",
    "    \n",
    "    # 2. Print the 'Mean F1-score' using print_mean implemented above on the f1_folds list\n",
    "    print_mean(f1_folds, \"Mean Macro F1-score: \")\n",
    "\n",
    "    # 3. Plot the Learning Curve\n",
    "    X_tr_all = vectorizer.fit_transform(X_tr_all)\n",
    "    plot_learning_curve(clf, lc_msg + \"Accuracy vs. Training Set Size\", X_tr_all, np.array(Y_tr_all), cv=10)\n",
    "    \n",
    "    # 4. Print the overall performance of the model using classification_report from sklearn\n",
    "    #    as parameters here you'll have: \n",
    "    #    - the ground truth for the test set (test_gt)\n",
    "    #    - the classes predicted by the model (preds)\n",
    "    #    - target_names=['HAM', 'SPAM'] - to have the labels nicely printed in the report\n",
    "    print \"-----------------------------------------------------------------------------\"\n",
    "    print \"Classification Report\"\n",
    "    print \"-----------------------------------------------------------------------------\"\n",
    "    print(classification_report(test_gt, preds, target_names=['HAM', 'SPAM']))\n",
    "    print \"-----------------------------------------------------------------------------\\n\"\n",
    "    \n",
    "    # 5.1. Let the compute_roc_auc boss implemented above compute the false positives rate, true pos rate and roc_auc.\n",
    "    #      Do not forget to feed it the test_gt and preds_scores as parameters!\n",
    "    fpr, tpr, roc_auc = compute_roc_auc(test_gt, preds_scores)\n",
    "    # 5.2. Plot the AUC ROC using plot_roc_curve defined above\n",
    "    plot_roc_curve(fpr, tpr, roc_auc, cm_msg)\n",
    "    \n",
    "    # 6. Plot the Confusion Matrix\n",
    "    cm = confusion_matrix(test_gt, preds)\n",
    "    cm = cm.astype('float') / cm.sum(axis=1)[:, np.newaxis]\n",
    "    sns.heatmap(cm)\n",
    "    plt.show()\n",
    "    \n",
    "    return roc_auc"
   ]
  },
  {
   "cell_type": "markdown",
   "metadata": {},
   "source": [
    "### Model inspection\n",
    "\n",
    "Ne zice care sunt cele mai predictive features găsite de model. În cazul nostru, care sunt cuvintele pe care modelul a ajuns să le coreleze cel mai tare cu spam/ham."
   ]
  },
  {
   "cell_type": "code",
   "execution_count": 37,
   "metadata": {},
   "outputs": [],
   "source": [
    "def model_inspection(clf, vectorizer):\n",
    "    #NOTE THAT THIS MODEL IS THE ONE FROM THE LAST FOLD.\n",
    "    # If we want to be more accurate, we have to train use all of the data and then inspect\n",
    "    bow_feat_names = np.array(vectorizer.get_feature_names())\n",
    "    print(\"Number of non zero coefficients:\", np.count_nonzero(clf.coef_[0,:]))\n",
    "    print(\"\\nTop-20 most predicive feats for each class\")\n",
    "    print('------')\n",
    "\n",
    "    feats = np.argsort(clf.coef_[0,:])[::-1]\n",
    "    print(\"Class SPAM:\", bow_feat_names[feats[:20]])\n",
    "    print()\n",
    "    feats = np.argsort(clf.coef_[0,:])\n",
    "    print(\"Class HAM:\", bow_feat_names[feats[:20]])\n",
    "    print()"
   ]
  },
  {
   "cell_type": "code",
   "execution_count": 38,
   "metadata": {},
   "outputs": [],
   "source": [
    "# Load the dataset\n",
    "data_file = './spam.csv'\n",
    "data = pd.read_csv(data_file, quotechar='\"', encoding = \"ISO-8859-1\", header=None).as_matrix()"
   ]
  },
  {
   "cell_type": "code",
   "execution_count": 39,
   "metadata": {},
   "outputs": [
    {
     "name": "stdout",
     "output_type": "stream",
     "text": [
      "5000\n"
     ]
    }
   ],
   "source": [
    "# The labels (spam/ham) are loaded and converted to binary labels (1/0)\n",
    "# Test data\n",
    "X_test = data[1:572,1].astype(str)\n",
    "Y_test_temp = data[1:572:,0].astype(np.str)\n",
    "\n",
    "Y_test = np.zeros(len(Y_test_temp))\n",
    "for i in range(len(Y_test_temp)):\n",
    "    if Y_test_temp[i] == 'spam':\n",
    "        Y_test[i] = 1\n",
    "\n",
    "# Training data\n",
    "X = data[573:,1].astype(str)\n",
    "Y_temp = data[573:,0].astype(np.str)\n",
    "\n",
    "print len(Y_temp)\n",
    "\n",
    "Y = np.zeros(len(Y_temp))\n",
    "for i in range(len(Y_temp)):\n",
    "    if Y_temp[i] == 'spam':\n",
    "        Y[i] = 1"
   ]
  },
  {
   "cell_type": "code",
   "execution_count": 40,
   "metadata": {},
   "outputs": [
    {
     "name": "stdout",
     "output_type": "stream",
     "text": [
      "('Fold ', 1)\n",
      "----\n",
      "{'C': 100000.0}\n",
      "0.98199819982\n",
      "----\n",
      "('Fold ', 2)\n",
      "----\n",
      "{'C': 100000.0}\n",
      "0.981098109811\n",
      "----\n",
      "('Fold ', 3)\n",
      "----\n",
      "{'C': 100000.0}\n",
      "0.980873087309\n",
      "----\n",
      "('Fold ', 4)\n",
      "----\n",
      "{'C': 100000.0}\n",
      "0.981098109811\n",
      "----\n",
      "('Fold ', 5)\n",
      "----\n",
      "{'C': 10000.0}\n",
      "0.980648064806\n",
      "----\n",
      "('Fold ', 6)\n",
      "----\n",
      "{'C': 100000.0}\n",
      "0.979077615298\n",
      "----\n",
      "('Fold ', 7)\n",
      "----\n",
      "{'C': 100000.0}\n",
      "0.979752530934\n",
      "----\n",
      "('Fold ', 8)\n",
      "----\n",
      "{'C': 1000.0}\n",
      "0.979977502812\n",
      "----\n",
      "('Fold ', 9)\n",
      "----\n",
      "{'C': 10000.0}\n",
      "0.982227221597\n",
      "----\n"
     ]
    }
   ],
   "source": [
    "# Build and Train the classifier\n",
    "skf = StratifiedKFold(n_splits=9, random_state=100)\n",
    "X_tr_all, Y_tr_all, preds, preds_scores, test_gt, f1_folds, val_accuracy, vectorizer, clf = run_lr(X, Y, skf)"
   ]
  },
  {
   "cell_type": "code",
   "execution_count": 43,
   "metadata": {},
   "outputs": [
    {
     "name": "stdout",
     "output_type": "stream",
     "text": [
      "-----------------------------------------------------------------------------\n",
      "('Mean validation accuracy: ', 0.9807500491331473, 0.0009658994427443823)\n",
      "-----------------------------------------------------------------------------\n",
      "\n",
      "-----------------------------------------------------------------------------\n",
      "('Mean Macro F1-score: ', 0.9405630603453515, 0.014300201763543347)\n",
      "-----------------------------------------------------------------------------\n",
      "\n",
      "-----------------------------------------------------------------------------\n",
      "Classification Report\n",
      "-----------------------------------------------------------------------------\n",
      "             precision    recall  f1-score   support\n",
      "\n",
      "        HAM       0.99      1.00      0.99      4334\n",
      "       SPAM       0.98      0.91      0.94       666\n",
      "\n",
      "avg / total       0.98      0.98      0.98      5000\n",
      "\n",
      "-----------------------------------------------------------------------------\n",
      "\n"
     ]
    },
    {
     "data": {
      "image/png": "[encoded data removed]",
      "text/plain": [
       "<matplotlib.figure.Figure at 0x7f6a42044ed0>"
      ]
     },
     "metadata": {},
     "output_type": "display_data"
    },
    {
     "data": {
      "image/png": "[encoded data removed]",
      "text/plain": [
       "<matplotlib.figure.Figure at 0x7f6a42155c10>"
      ]
     },
     "metadata": {},
     "output_type": "display_data"
    },
    {
     "data": {
      "image/png": "[encoded data removed]",
      "text/plain": [
       "<matplotlib.figure.Figure at 0x7f6a414a3190>"
      ]
     },
     "metadata": {},
     "output_type": "display_data"
    },
    {
     "data": {
      "text/plain": [
       "0.9842913979969816"
      ]
     },
     "execution_count": 43,
     "metadata": {},
     "output_type": "execute_result"
    }
   ],
   "source": [
    "# Print the results\n",
    "print_results(X, Y, preds, preds_scores, test_gt, f1_folds, val_accuracy, vectorizer, clf)"
   ]
  },
  {
   "cell_type": "code",
   "execution_count": 44,
   "metadata": {},
   "outputs": [
    {
     "name": "stdout",
     "output_type": "stream",
     "text": [
      "('Number of non zero coefficients:', 17848)\n",
      "\n",
      "Top-20 most predicive feats for each class\n",
      "------\n",
      "('Class SPAM:', array([u'straight', u'register now', u'11pm as you', u'sun liao',\n",
      "       u'to pay', u'latr', u'call mobilesdirect', u'oh you',\n",
      "       u'3100 standard', u'of the house', u'or poly', u'book',\n",
      "       u'camcorder reply or', u'can you plz', u'to do on', u'150 ppm 18',\n",
      "       u'price', u'thank god', u'orchard', u'top of'], dtype='<U39'))\n",
      "()\n",
      "('Class HAM:', array([u'living is', u'join', u'but call me', u'him now', u'mila',\n",
      "       u'reply with', u'code 40533 expires', u'hospital da', u'else to',\n",
      "       u'sed in sexy', u'are closed', u'got up', u'happiness bad days',\n",
      "       u'upd8 on', u'good have', u'is always', u'for video mobile',\n",
      "       u'there is', u'get some', u'symbol'], dtype='<U39'))\n",
      "()\n"
     ]
    }
   ],
   "source": [
    "# Model inspection\n",
    "model_inspection(clf, vectorizer)"
   ]
  },
  {
   "cell_type": "code",
   "execution_count": null,
   "metadata": {},
   "outputs": [],
   "source": []
  }
 ],
 "metadata": {
  "kernelspec": {
   "display_name": "Python 3",
   "language": "python",
   "name": "python3"
  },
  "language_info": {
   "codemirror_mode": {
    "name": "ipython",
    "version": 2
   },
   "file_extension": ".py",
   "mimetype": "text/x-python",
   "name": "python",
   "nbconvert_exporter": "python",
   "pygments_lexer": "ipython2",
   "version": "2.7.12+"
  }
 },
 "nbformat": 4,
 "nbformat_minor": 2
}
