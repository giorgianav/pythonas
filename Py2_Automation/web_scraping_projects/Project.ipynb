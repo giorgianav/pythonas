{
 "cells": [
  {
   "cell_type": "markdown",
   "metadata": {},
   "source": [
    "# Pin this project!\n",
    "\n",
    "`TODO`\n",
    "* Creați propriul vostru \"I'm feeling Lucky\"\n",
    "* Realizați o căutare pe Pinterest, luați prima poză și salvați-o local\n",
    "* Postați poza salvată pe wall-ul vostru împreună cu un mesaj"
   ]
  },
  {
   "cell_type": "markdown",
   "metadata": {},
   "source": [
    "## I'm feeling Lucky\n",
    "\n",
    "În această primă parte a proiectului, dorim să realizăm funcționalitatea butonului \"I'm feeling Lucky\" din Google search.\n",
    "Se aseamănă foarte mult ce am lucrat la partea de hands-ons."
   ]
  },
  {
   "cell_type": "code",
   "execution_count": null,
   "metadata": {
    "collapsed": true
   },
   "outputs": [],
   "source": [
    "# import requests, sys, webbrowser, bs4\n",
    "\n",
    "# Ask the user what to search. Hint: input()\n",
    "# ...\n",
    "\n",
    "# Concat the user input to the string: http://google.com/search?q=\n",
    "# ...\n",
    "\n",
    "# Make the request\n",
    "# result = ...\n",
    "\n",
    "# Check if the result is OK\n",
    "# try:\n",
    "#         res.raise_for_status()\n",
    "# except Exception as exc:\n",
    "#         print('There was a problem: %s' % (exc))\n",
    "        \n",
    "# Parse the result.text\n",
    "# ...\n",
    "\n",
    "\n",
    "# Select the elements that contains the tag <a>\n",
    "# Hint: Above <a> is class=r\n",
    "# ...\n",
    "\n",
    "# Print the lucky link to check if it is correct\n",
    "# ...\n",
    "\n",
    "# Open the browser with the lucky link\n",
    "# webbrowser.open('http://google.com' + lucky_link.get('href'))"
   ]
  },
  {
   "cell_type": "markdown",
   "metadata": {},
   "source": [
    "## Get a picture from Pinterest\n",
    "\n",
    "După cum am văzut, aproape orice căutare începe cu un request care conține cuvântul \"search\". <br>\n",
    "Spre exemplu, dacă vrem să căutăm pe Flickr, vom folosi link-ul https://www.flickr.com/search/?text=, la care vom adăuga cuvintele nostre cheie.\n",
    "\n",
    "Challenge: Aflați link-ul de search pentru Pinterest. <br>\n",
    "Hint: Realizați o căutare pe Pinterest și inspectați URL-ul."
   ]
  },
  {
   "cell_type": "code",
   "execution_count": null,
   "metadata": {
    "collapsed": true
   },
   "outputs": [],
   "source": [
    "# import requests, sys, webbrowser, bs4\n",
    "\n",
    "# Ask the user what to search. Hint: input()\n",
    "# ...\n",
    "\n",
    "# Concat the user input to the URL you found\n",
    "# ...\n",
    "\n",
    "# Make the request\n",
    "# result = requests.get(..., verify=False)\n",
    "\n",
    "# Check if the result is OK\n",
    "# try:\n",
    "#         result.raise_for_status()\n",
    "# except Exception as exc:\n",
    "#         print('There was a problem: %s' % (exc))\n",
    "        \n",
    "# Parse the result.text\n",
    "# ...\n",
    "\n",
    "# Select the elements that contains images\n",
    "# Hint: <img> tag\n",
    "# ...\n",
    "\n",
    "# Get the value of the src attribute\n",
    "# Hint: It should be an URL\n",
    "# ...\n",
    "\n",
    "# Print the URL and check if it is OK\n",
    "# ...\n",
    "\n",
    "# Make the request\n",
    "# result2 = requests.get(..., verify=False)\n",
    "\n",
    "# Check if the result2 is OK\n",
    "# try:\n",
    "#         result2.raise_for_status()\n",
    "# except Exception as exc:\n",
    "#         print('There was a problem: %s' % (exc))\n",
    "\n",
    "# Save the picture\n",
    "# Hint: XKCD handson\n",
    "# ..."
   ]
  },
  {
   "cell_type": "markdown",
   "metadata": {},
   "source": [
    "## Post the picture on Facebook\n",
    "\n",
    "Acum a sosist momentul să postăm rezultatul pe Facebook. <br>\n",
    "\n",
    "Puteți reveni la hands-ons dacă atunci când aveți nelămuriri. <br>\n"
   ]
  },
  {
   "cell_type": "code",
   "execution_count": null,
   "metadata": {
    "collapsed": true
   },
   "outputs": [],
   "source": [
    "# import facebook\n",
    "\n",
    "# Keep the access token in a variable\n",
    "# ...\n",
    "\n",
    "\n",
    "# Get the graph object\n",
    "# ...\n",
    "\n",
    "# Publish the photo\n",
    "# ..."
   ]
  }
 ],
 "metadata": {
  "kernelspec": {
   "display_name": "Python 3",
   "language": "python",
   "name": "python3"
  },
  "language_info": {
   "codemirror_mode": {
    "name": "ipython",
    "version": 3
   },
   "file_extension": ".py",
   "mimetype": "text/x-python",
   "name": "python",
   "nbconvert_exporter": "python",
   "pygments_lexer": "ipython3",
   "version": "3.5.3"
  }
 },
 "nbformat": 4,
 "nbformat_minor": 2
}
