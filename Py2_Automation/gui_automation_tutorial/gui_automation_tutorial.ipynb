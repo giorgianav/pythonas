{
 "cells": [
  {
   "cell_type": "markdown",
   "metadata": {},
   "source": [
    "# Setting things up\n",
    "\n",
    "Se importa modulul folosind comanda `import pyautogui`."
   ]
  },
  {
   "cell_type": "code",
   "execution_count": null,
   "metadata": {
    "collapsed": true
   },
   "outputs": [],
   "source": [
    "import pyautogui"
   ]
  },
  {
   "cell_type": "markdown",
   "metadata": {},
   "source": [
    "# Be in charge!\n",
    "\n",
    "Ca sa evitam situatiile in care comenzile sunt executate prea rapid putem seta un delay intre instructiunile ce urmeaza a fi executate cu ajutorul variabilei `pyautogui.PAUSE`, sau sa folosim feature-ul `pyautogui,FAILSAFE` care intrerupe rularea programului in momentul in care mutam cursorul in coltul din stanga sus.\n"
   ]
  },
  {
   "cell_type": "code",
   "execution_count": null,
   "metadata": {
    "collapsed": true
   },
   "outputs": [],
   "source": [
    "import pyautogui\n",
    "\n",
    "# Sets the delay between instructions to 1.5 seconds\n",
    "pyautogui.PAUSE = 1.5 \n",
    "\n",
    "# Enables the failsafe feature\n",
    "pyautogui.FAILSAFE = True\n",
    "\n",
    "# Disables the failsafe feature\n",
    "pyautogui.FAILSAFE = False"
   ]
  },
  {
   "cell_type": "markdown",
   "metadata": {},
   "source": [
    "# Now the fun part\n",
    "\n",
    "Pentru a manipula miscarea cursorului avem nevoie sa cunoastem atat coordonatele acestuia cat si cele ale spatiului de lucru. Astfel, salvam in doua variabile dimensiunile ecranului (in pixeli)"
   ]
  },
  {
   "cell_type": "code",
   "execution_count": 1,
   "metadata": {
    "collapsed": true
   },
   "outputs": [],
   "source": [
    "import pyautogui\n",
    "\n",
    "width, height = pyautogui.size()"
   ]
  },
  {
   "cell_type": "markdown",
   "metadata": {},
   "source": [
    "## Movin' around\n",
    "\n",
    "Modulul pyautogui contine cateva functii utile pentru manipularea pozitiei cursorului.\n",
    "\n",
    "### moveTo()\n",
    "\n",
    "`pyautogui.moveTo(xCoord,yCoord, [duration])` <br>\n",
    "\n",
    "Aceasta functie deplaseaza cursorul de la coordonatele initiale la coordonatele `xCoord` si `yCoord` , iar parametrul optional `duration` specifica durata in care pointer-ul trebuie sa efectueze aceasta deplasare.\n",
    "\n",
    "De exemplu, pentru a ii imprima pointer-ului o miscare sub forma de patrat, pe care sa o repete de 10 ori putem scrie:"
   ]
  },
  {
   "cell_type": "code",
   "execution_count": 2,
   "metadata": {},
   "outputs": [],
   "source": [
    "import pyautogui\n",
    "\n",
    "for i in range(3):\n",
    "    pyautogui.moveTo(100, 100, duration=0.25)\n",
    "    pyautogui.moveTo(200, 100, duration=0.25)\n",
    "    pyautogui.moveTo(200, 200, duration=0.25)\n",
    "    pyautogui.moveTo(100, 200, duration=0.25)"
   ]
  },
  {
   "cell_type": "markdown",
   "metadata": {},
   "source": [
    "### moveRel()\n",
    "\n",
    "`pyautogui.moveRel(moveOx, moveOy, [duration])` <br>\n",
    "\n",
    "Aceasta functie deplaseaza cursorul cu `moveOx` pixeli pe axa Ox si cu `moveOy` pixeli pe axa Oy fata de pozitia initiala a acestuia.\n",
    "\n",
    "Aceeasi miscare a pointer-ului ca mai devreme poate fi imprimata folosind `moveRel()` astfel:"
   ]
  },
  {
   "cell_type": "code",
   "execution_count": null,
   "metadata": {
    "collapsed": true
   },
   "outputs": [],
   "source": [
    "import pyautogui\n",
    "\n",
    "for i in range(10):\n",
    "    pyautogui.moveRel(100, 0, duration=0.25)\n",
    "    pyautogui.moveRel(0, 100, duration=0.25)\n",
    "    pyautogui.moveRel(-100, 0, duration=0.25)\n",
    "    pyautogui.moveRel(0, -100, duration=0.25)"
   ]
  },
  {
   "cell_type": "markdown",
   "metadata": {},
   "source": [
    "## Find me\n",
    "\n",
    "Functia `pyautogui.position()` returneaza un tuplu ce contine coordonatele curente ale cursorului pe axele Ox si Oy:"
   ]
  },
  {
   "cell_type": "code",
   "execution_count": null,
   "metadata": {},
   "outputs": [],
   "source": [
    "import pyautogui\n",
    "import time\n",
    "\n",
    "time.sleep(5)\n",
    "positionOx, positionOy = pyautogui.position()\n",
    "print(pyautogui.position())"
   ]
  },
  {
   "cell_type": "markdown",
   "metadata": {},
   "source": [
    "Alte functii similare ce ar putea fi utile sunt:\n",
    "`pyautogui.mouseUp()`\n",
    "`pyautogui.mouseDown()`\n",
    "`pyautogui.middleClick()`\n",
    "\n",
    "## Click'n'drag\n",
    "\n",
    "`pyautogui.dragTo(xCoord, yCoord, [duration])` <br>\n",
    "`pyautogui.dragRel(moveOx, moveOy, [duration])` <br>\n",
    "\n",
    "Aceste functii sunt similare cu `pyautogui.moveTo` si `pyautogui.moveRel`, parametrii avand aceeasi semnificatie.\n",
    "\n",
    "## They see me scrollin'\n",
    "\n",
    "`pyautogui.scroll(number)` <br>\n",
    "\n",
    "Parametrul `number` reprezinta numarul de unitati de masura cu care pagina va migra in sus sau in jos. Acest numar depinde de la un sistem de operare la altul asa ca pentru a stii exact ce parametru trebuie sa ii dam functiei, trebuie sa experimentam putin intai.\n"
   ]
  },
  {
   "cell_type": "code",
   "execution_count": null,
   "metadata": {
    "collapsed": true
   },
   "outputs": [],
   "source": [
    "import pyautogui\n",
    "\n",
    "pyautogui.scroll(200)"
   ]
  },
  {
   "cell_type": "markdown",
   "metadata": {},
   "source": [
    "## They clickin'\n",
    "\n",
    "`pyautogui.click([positionOx], [position Oy], [button])`\n",
    "\n",
    "Primii doi parametrii reprezinta coordonatele la care sa se efectueze click-ul, pe cand al treilea determina butonul care va fi actionat (`left` sau `right`). Acestia toti fiind parametrii optionali, by default functia va efectua un click la pozitia curenta a cursorului, actionand butonul din stanga."
   ]
  },
  {
   "cell_type": "code",
   "execution_count": null,
   "metadata": {
    "collapsed": true
   },
   "outputs": [],
   "source": [
    "import pyautogui\n",
    "\n",
    "pyautogui.click(10, 5)\n",
    "pyautogui.click(150, 100, button = 'right')\n"
   ]
  },
  {
   "cell_type": "markdown",
   "metadata": {},
   "source": [
    "## Typing in strings\n",
    "\n",
    "`pyautogui.typewrite(string, [pause])`\n",
    "\n",
    "Aceasta functie va trimite stringul `string` in campul text care se afla la momentul respectiv in focus. Este de preferat ca inainte sa dam aceasta comanda sa ne asiguram ca avem in focus campul text care ne intereseaza pe noi (deci sa efectuam un click pe el)\n",
    "\n",
    "Parametrul optional `pause` indica un delay intre fiecare apasare de buton, deci o intarziere in afisarea literelor pe ecran. By default acesta este 0, iar `string` apare pe ecran instantaneu.\n"
   ]
  },
  {
   "cell_type": "code",
   "execution_count": null,
   "metadata": {
    "collapsed": true
   },
   "outputs": [],
   "source": [
    "import pyautogui\n",
    "\n",
    "pyautogui.click(100, 100)\n",
    "pyautogui.typewrite('Hello Python!', 0.25)"
   ]
  },
  {
   "cell_type": "markdown",
   "metadata": {},
   "source": [
    "Pentru a actiona tastele cheie de pe tastatura, (SHIFT, ENTER, sageata stanga, F7, BACKSPACE, de exemplu) se folosesc string-uri predefinite transmise ca parametrul functiei `typewrite` ('shift', 'enter', 'left', 'f7', 'backspace')\n",
    "\n",
    "De exemplu, functia de mai jos ar trebui sa returneze `XYab`"
   ]
  },
  {
   "cell_type": "code",
   "execution_count": null,
   "metadata": {},
   "outputs": [],
   "source": [
    "import pyautogui\n",
    "import time\n",
    "\n",
    "time.sleep(3)\n",
    "pyautogui.typewrite(['a', 'b', 'left', 'left', 'X', 'Y'])"
   ]
  },
  {
   "cell_type": "code",
   "execution_count": null,
   "metadata": {
    "collapsed": true
   },
   "outputs": [],
   "source": [
    "# Run the above cell and then immediately click on this one to see what the code does.\n",
    "\n",
    "."
   ]
  },
  {
   "cell_type": "markdown",
   "metadata": {},
   "source": [
    "## Press and hold\n",
    "\n",
    "Functia `pyautogui.keyDown(key)` tine apasata tasta `key` pana in momentul in care instructiunea `pyautogui.keyUp(string key)` este executata.\n",
    "Functia `pyaurogui.press(key)` este echivalenta apasarii unei taste si eliberarea acesteia imediata.\n",
    "\n",
    "De exemplu, functia de mai jos ar trebui sa returneze caracterul $"
   ]
  },
  {
   "cell_type": "code",
   "execution_count": null,
   "metadata": {
    "collapsed": true
   },
   "outputs": [],
   "source": [
    "import pyautogui\n",
    "import time\n",
    "\n",
    "time.sleep(3)\n",
    "pyautogui.keyDown('shift'); pyautogui.press('4'); pyautogui.keyUp('shift')"
   ]
  },
  {
   "cell_type": "code",
   "execution_count": null,
   "metadata": {
    "collapsed": true
   },
   "outputs": [],
   "source": [
    "# Run the above cell and then immediately click on this one to see what the code does.\n",
    "\n",
    "."
   ]
  },
  {
   "cell_type": "markdown",
   "metadata": {},
   "source": [
    "## Fssssssss\n",
    "\n",
    "Un `hotkey` este o combinatie a doua sau mai multe taste care declanseaza o functie speciala a sistemului de operare sau a aplicatiei in care suntem (Ctrl + C = copy, Ctrl + V = paste).\n",
    "\n",
    "`pyautogui.hotkey(key1, key2, key3)` este functia cu efectul descris mai sus"
   ]
  },
  {
   "cell_type": "code",
   "execution_count": null,
   "metadata": {
    "collapsed": true
   },
   "outputs": [],
   "source": [
    "import pyautogui\n",
    "\n",
    "pyautogui.hotkey('ctrl', 'c')"
   ]
  },
  {
   "cell_type": "markdown",
   "metadata": {},
   "source": [
    "## Shoot the screen\n",
    "\n",
    "Functia `pyautogui.screenshot([image_name], region = (left, top, width, height))` efectueaza un screenshot returneaza un obiect de tip Imagine. Parametrii sunt optionali, insa daca introducem un nume pentru imaginea noastra, aceasta va fi salvata in computer. Parametrul `region` se introduce in momentul in care nu vrem sa realizam o captura a intregului ecran, ci vrem sa specificam o zona anume."
   ]
  },
  {
   "cell_type": "code",
   "execution_count": null,
   "metadata": {
    "collapsed": true
   },
   "outputs": [],
   "source": [
    "import pyautogui\n",
    "\n",
    "pyautogui.screenshot('tutorial_in_progress.png', region = (10, 10, 500, 800))"
   ]
  },
  {
   "cell_type": "markdown",
   "metadata": {},
   "source": [
    "## Aflarea culorii unui pixel\n",
    "\n",
    "Functia `pyautogui.pixel(xCoord, Coord)` returneaza un tuplu cu 3 elemente, fiecare dintre acestea reprezentand valorile componentelor RGB cu ajutorul carora este reprezentata culoarea pixelului.\n",
    "\n",
    "In plus, mai exista si functia `getpixel((xCoord, yCoord))` care se apeleaza pe un obiect de tip Imagine si returneaza componentele R, G, B al acelui pixel de la coordonatele `xCoord` si `yCoord` care apartine imaginii respective."
   ]
  },
  {
   "cell_type": "code",
   "execution_count": null,
   "metadata": {},
   "outputs": [],
   "source": [
    "import pyautogui\n",
    "import time\n",
    "\n",
    "time.sleep(3)\n",
    "print(pyautogui.pixel(654, 267))\n",
    "\n",
    "time.sleep(3)\n",
    "im = pyautogui.screenshot()\n",
    "print(im.getpixel((500, 500)))"
   ]
  },
  {
   "cell_type": "markdown",
   "metadata": {},
   "source": [
    "## Verificarea culorii unui pixel de la o coordonata anume\n",
    "\n",
    "Functia `pyautogui.pixelMatchesColor(xCoord, yCoord, (r, g, b))` returneaza `True` daca culoarea punctului de la coordonatele `xCoord` si `yCoord` are componentele R, G, B egale cu `r`, `g` si respectiv `b` si `False` altfel"
   ]
  },
  {
   "cell_type": "code",
   "execution_count": null,
   "metadata": {},
   "outputs": [],
   "source": [
    "import pyautogui\n",
    "\n",
    "pyautogui.pixelMatchesColor(50, 200, (130, 135, 144))"
   ]
  }
 ],
 "metadata": {
  "kernelspec": {
   "display_name": "Python 3",
   "language": "python",
   "name": "python3"
  },
  "language_info": {
   "codemirror_mode": {
    "name": "ipython",
    "version": 3
   },
   "file_extension": ".py",
   "mimetype": "text/x-python",
   "name": "python",
   "nbconvert_exporter": "python",
   "pygments_lexer": "ipython3",
   "version": "3.6.3"
  }
 },
 "nbformat": 4,
 "nbformat_minor": 2
}
